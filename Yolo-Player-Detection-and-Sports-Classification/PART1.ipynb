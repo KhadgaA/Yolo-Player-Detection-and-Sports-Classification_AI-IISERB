{
 "cells": [
  {
   "cell_type": "code",
   "execution_count": 15,
   "id": "09c5283e-248a-49af-b52c-53a8db68b14c",
   "metadata": {},
   "outputs": [
    {
     "name": "stdout",
     "output_type": "stream",
     "text": [
      "The lab_black extension is already loaded. To reload it, use:\n",
      "  %reload_ext lab_black\n"
     ]
    }
   ],
   "source": [
    "%load_ext lab_black"
   ]
  },
  {
   "cell_type": "code",
   "execution_count": 16,
   "id": "10a2d47d-0013-44a3-a847-fc31f9e0c434",
   "metadata": {},
   "outputs": [],
   "source": [
    "# YOLO object detection\n",
    "import cv2\n",
    "import time\n",
    "import sys\n",
    "import numpy as np\n",
    "from pathlib import Path"
   ]
  },
  {
   "cell_type": "code",
   "execution_count": 17,
   "id": "9274e5f6-0e0c-49ec-9de3-986202a462b3",
   "metadata": {},
   "outputs": [],
   "source": [
    "def trackbar2(x):\n",
    "    confidence = x / 100\n",
    "    r = r0.copy()\n",
    "    for output in np.vstack(outputs):\n",
    "        if output[4] > confidence:\n",
    "            x, y, w, h = output[:4]\n",
    "            p0 = int((x - w / 2) * 416), int((y - h / 2) * 416)\n",
    "            p1 = int((x + w / 2) * 416), int((y + h / 2) * 416)\n",
    "            cv2.rectangle(r, p0, p1, 1, 1)\n",
    "    cv2.imshow(\"blob\", r)\n",
    "    text = f\"Bbox confidence={confidence}\"\n",
    "    cv2.displayOverlay(\"blob\", text)"
   ]
  },
  {
   "cell_type": "code",
   "execution_count": 18,
   "id": "5369476a-9aba-450a-a5b7-249a1056a342",
   "metadata": {},
   "outputs": [],
   "source": [
    "font_scale = 3\n",
    "font = cv2.FONT_HERSHEY_PLAIN\n",
    "\n",
    "# Load names of classes and get random colors\n",
    "classes = open(\"labels.txt\").read().strip().split(\"\\n\")\n",
    "np.random.seed(42)\n",
    "colors = np.random.randint(0, 255, size=(len(classes), 3), dtype=\"uint8\")\n",
    "\n",
    "\n",
    "# Give the configuration and weight files for the model and load the network.\n",
    "net = cv2.dnn.readNetFromDarknet(\"yolov3.cfg\", \"yolov3.weights\")\n",
    "net.setPreferableBackend(cv2.dnn.DNN_BACKEND_OPENCV)\n",
    "# net.setPreferableTarget(cv2.dnn.DNN_TARGET_CPU)\n",
    "\n",
    "# determine the output layer\n",
    "ln = net.getLayerNames()\n",
    "ln = [ln[i[0] - 1] for i in net.getUnconnectedOutLayers()]"
   ]
  },
  {
   "cell_type": "code",
   "execution_count": 19,
   "id": "5b2a5223-583a-49fd-bfb4-0e384e22ba86",
   "metadata": {},
   "outputs": [
    {
     "name": "stdout",
     "output_type": "stream",
     "text": [
      "FPS:  5 , interval:  200\n"
     ]
    }
   ],
   "source": [
    "cap = cv2.VideoCapture(\"India won Sindhu is world champion.mp4\")\n",
    "\n",
    "# Check if camera opened successfully\n",
    "if cap.isOpened() == False:\n",
    "    print(\"Error opening video stream or file\")\n",
    "\n",
    "fps = 5\n",
    "# if you want to have the FPS according to the video then uncomment this code\n",
    "# fps = cap.get(cv2.CAP_PROP_FPS)\n",
    "\n",
    "# calculate the interval between frame.\n",
    "interval = int(1000 / fps)\n",
    "print(\"FPS: \", fps, \", interval: \", interval)\n",
    "# Read the video\n",
    "while cap.isOpened():\n",
    "    # ret, frame = cap.read()\n",
    "\n",
    "    success, img = cap.read()\n",
    "\n",
    "    cv2.imshow(\"window\", img)\n",
    "    cv2.waitKey(1)\n",
    "\n",
    "    # construct a blob from the image\n",
    "    blob = cv2.dnn.blobFromImage(img, 1 / 255.0, (416, 416), swapRB=True, crop=False)\n",
    "    r = blob[0, 0, :, :]\n",
    "\n",
    "    cv2.imshow(\"blob\", r)\n",
    "    text = f\"Blob shape={blob.shape}\"\n",
    "    cv2.displayOverlay(\"blob\", text)\n",
    "    cv2.waitKey(1)\n",
    "\n",
    "    net.setInput(blob)\n",
    "    t0 = time.time()\n",
    "    outputs = net.forward(ln)\n",
    "    t = time.time()\n",
    "    # print('time=', t-t0)\n",
    "\n",
    "    # print(len(outputs))\n",
    "    # for out in outputs:\n",
    "    #     print(out.shape)\n",
    "\n",
    "    r0 = blob[0, 0, :, :]\n",
    "    r = r0.copy()\n",
    "    cv2.imshow(\"blob\", r)\n",
    "    cv2.createTrackbar(\"confidence\", \"blob\", 80, 100, trackbar2)\n",
    "    trackbar2(80)\n",
    "\n",
    "    boxes = []\n",
    "    confidences = []\n",
    "    classIDs = []\n",
    "    h, w = img.shape[:2]\n",
    "\n",
    "    for output in outputs:\n",
    "        for detection in output:\n",
    "            scores = detection[5:]\n",
    "            classID = np.argmax(scores)\n",
    "            confidence = scores[classID]\n",
    "            if confidence > 0.5:\n",
    "                box = detection[:4] * np.array([w, h, w, h])\n",
    "                (centerX, centerY, width, height) = box.astype(\"int\")\n",
    "                x = int(centerX - (width / 2))\n",
    "                y = int(centerY - (height / 2))\n",
    "                box = [x, y, int(width), int(height)]\n",
    "                boxes.append(box)\n",
    "                confidences.append(float(confidence))\n",
    "                classIDs.append(classID)\n",
    "\n",
    "    indices = cv2.dnn.NMSBoxes(boxes, confidences, 0.5, 0.4)\n",
    "    if len(indices) > 0:\n",
    "        for i in indices.flatten():\n",
    "            (x, y) = (boxes[i][0], boxes[i][1])\n",
    "            (w, h) = (boxes[i][2], boxes[i][3])\n",
    "            color = [int(c) for c in colors[classIDs[i]]]\n",
    "            cv2.rectangle(img, (x, y), (x + w, y + h), color, 2)\n",
    "            text = \"{}: {:.4f}\".format(classes[classIDs[i]], confidences[i])\n",
    "            cv2.putText(img, text, (x, y - 5), cv2.FONT_HERSHEY_SIMPLEX, 0.5, color, 1)\n",
    "\n",
    "    cv2.imshow(\"window\", img)\n",
    "    # cv2.imwrite(\"model_box.png\", img)\n",
    "    if cv2.waitKey(interval) & 0xFF == ord(\"q\"):\n",
    "        break\n",
    "\n",
    "cap.release()\n",
    "cv2.destroyAllWindows()"
   ]
  },
  {
   "cell_type": "code",
   "execution_count": null,
   "id": "59d61328-9dd9-4302-bce1-9e3204e2e164",
   "metadata": {},
   "outputs": [],
   "source": []
  },
  {
   "cell_type": "code",
   "execution_count": null,
   "id": "f53bf372-ff4f-426b-9d11-4d3a2a2e003e",
   "metadata": {},
   "outputs": [],
   "source": []
  }
 ],
 "metadata": {
  "kernelspec": {
   "display_name": "Python 3 (ipykernel)",
   "language": "python",
   "name": "python3"
  },
  "language_info": {
   "codemirror_mode": {
    "name": "ipython",
    "version": 3
   },
   "file_extension": ".py",
   "mimetype": "text/x-python",
   "name": "python",
   "nbconvert_exporter": "python",
   "pygments_lexer": "ipython3",
   "version": "3.9.7"
  }
 },
 "nbformat": 4,
 "nbformat_minor": 5
}
